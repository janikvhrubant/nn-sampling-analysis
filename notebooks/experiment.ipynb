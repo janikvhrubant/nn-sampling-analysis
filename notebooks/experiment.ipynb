{
 "cells": [
  {
   "cell_type": "markdown",
   "metadata": {},
   "source": [
    "### Imports 👽"
   ]
  },
  {
   "cell_type": "code",
   "execution_count": 1,
   "metadata": {},
   "outputs": [
    {
     "ename": "ModuleNotFoundError",
     "evalue": "No module named 'torch'",
     "output_type": "error",
     "traceback": [
      "\u001b[1;31m---------------------------------------------------------------------------\u001b[0m",
      "\u001b[1;31mModuleNotFoundError\u001b[0m                       Traceback (most recent call last)",
      "Cell \u001b[1;32mIn[1], line 4\u001b[0m\n\u001b[0;32m      2\u001b[0m \u001b[39mimport\u001b[39;00m\u001b[39m \u001b[39m\u001b[39msys\u001b[39;00m\n\u001b[0;32m      3\u001b[0m \u001b[39mimport\u001b[39;00m\u001b[39m \u001b[39m\u001b[39mpandas\u001b[39;00m\u001b[39m \u001b[39m\u001b[39mas\u001b[39;00m\u001b[39m \u001b[39m\u001b[39mpd\u001b[39;00m\n\u001b[1;32m----> 4\u001b[0m \u001b[39mimport\u001b[39;00m\u001b[39m \u001b[39m\u001b[39mtorch\u001b[39;00m\n\u001b[0;32m      6\u001b[0m sys\u001b[39m.\u001b[39mpath\u001b[39m.\u001b[39mappend(os\u001b[39m.\u001b[39mpath\u001b[39m.\u001b[39mabspath(os\u001b[39m.\u001b[39mpath\u001b[39m.\u001b[39mjoin(\u001b[39m'\u001b[39m\u001b[39m..\u001b[39m\u001b[39m'\u001b[39m, \u001b[39m'\u001b[39m\u001b[39msrc\u001b[39m\u001b[39m'\u001b[39m)))\n\u001b[0;32m      7\u001b[0m \u001b[39mfrom\u001b[39;00m\u001b[39m \u001b[39m\u001b[39mdata_classes\u001b[39;00m\u001b[39m.\u001b[39;00m\u001b[39marchitecture\u001b[39;00m\u001b[39m \u001b[39m\u001b[39mimport\u001b[39;00m NeuralNetworkArchitecture\n",
      "\u001b[1;31mModuleNotFoundError\u001b[0m: No module named 'torch'"
     ]
    }
   ],
   "source": [
    "import os\n",
    "import sys\n",
    "import pandas as pd\n",
    "import torch\n",
    "\n",
    "sys.path.append(os.path.abspath(os.path.join('..', 'src')))\n",
    "from data_classes.architecture import NeuralNetworkArchitecture\n",
    "from data_classes.enums import OptimizationMethod\n",
    "from data_classes.experiment import Experiment, SamplingMethod\n",
    "from data_classes.scenario import Scenario, ScenarioSettings\n",
    "from data_classes.training_data import InputData\n",
    "from data_classes.training_config import AdamTrainingConfig, TrainingSettings\n",
    "from models import SequentialNeuralNetwork"
   ]
  },
  {
   "cell_type": "markdown",
   "metadata": {},
   "source": [
    "### Setup Scenario and Training Settings 🧪"
   ]
  },
  {
   "cell_type": "code",
   "execution_count": null,
   "metadata": {},
   "outputs": [],
   "source": [
    "experiment = Experiment(\n",
    "    SAMPLING_METHOD=SamplingMethod.SOBOL,\n",
    "    SCENARIO=Scenario.PROJECTILE\n",
    ")\n",
    "\n",
    "experiments = [\n",
    "    Experiment(\n",
    "        SAMPLING_METHOD=SamplingMethod.SOBOL,\n",
    "        SCENARIO=Scenario.SUM_SINES\n",
    "    ),\n",
    "    Experiment(\n",
    "        SAMPLING_METHOD=SamplingMethod.MC,\n",
    "        SCENARIO=Scenario.SUM_SINES\n",
    "    ),\n",
    "    Experiment(\n",
    "        SAMPLING_METHOD=SamplingMethod.SOBOL,\n",
    "        SCENARIO=Scenario.PROJECTILE\n",
    "    ),\n",
    "    Experiment(\n",
    "        SAMPLING_METHOD=SamplingMethod.MC,\n",
    "        SCENARIO=Scenario.PROJECTILE\n",
    "    )\n",
    "]\n",
    "\n",
    "scenario_settings = ScenarioSettings(experiment.SCENARIO)\n",
    "\n",
    "input_data = InputData(scenario_settings.DATA_PATH)"
   ]
  },
  {
   "cell_type": "code",
   "execution_count": null,
   "metadata": {},
   "outputs": [],
   "source": [
    "widths = [24]\n",
    "depths = [16]\n",
    "learning_rates = [0.001]\n",
    "lambdas = [1e-07]\n",
    "training_set_sizes = [128]\n",
    "# widths = [6,12,24]\n",
    "# depths = [4,8,16]\n",
    "# learning_rates = [0.01,0.001]\n",
    "# lambdas = [1.0e-04,1.0e-05,1.0e-06,1e-07]\n",
    "# training_set_sizes = scenario_settings.TRAINING_SET_SIZES"
   ]
  },
  {
   "cell_type": "code",
   "execution_count": null,
   "metadata": {},
   "outputs": [],
   "source": [
    "all_training_settings = []\n",
    "for num_epochs in [100, 500, 1000, 2000]:\n",
    "    training_settings = []\n",
    "    for width in widths:\n",
    "        for depth in depths:\n",
    "            for learning_rate in learning_rates:\n",
    "                for lambda_ in lambdas:\n",
    "                        for training_set_size in training_set_sizes:\n",
    "                            nn_arch = NeuralNetworkArchitecture(\n",
    "                                INPUT_DIM=scenario_settings.INPUT_DIM,\n",
    "                                OUTPUT_DIM=scenario_settings.OUTPUT_DIM,\n",
    "                                NUM_HIDDEN_LAYERS=width,\n",
    "                                DEPTH=depth,\n",
    "                                ACTIVATION_FUNCTION=torch.nn.Sigmoid\n",
    "                            )\n",
    "                            training_config = AdamTrainingConfig(\n",
    "                                OPTIMIZER=OptimizationMethod.ADAM,\n",
    "                                LEARNING_RATE=learning_rate,\n",
    "                                REG_PARAM=lambda_,\n",
    "                                NUM_EPOCHS=num_epochs\n",
    "                            )\n",
    "\n",
    "                            training_settings.append(TrainingSettings(\n",
    "                                nn_architecture=nn_arch,\n",
    "                                training_config=training_config,\n",
    "                                training_set_size=training_set_size\n",
    "                            ))"
   ]
  },
  {
   "cell_type": "markdown",
   "metadata": {},
   "source": [
    "### Run Training 🚀"
   ]
  },
  {
   "cell_type": "code",
   "execution_count": null,
   "metadata": {},
   "outputs": [],
   "source": [
    "training_results_list = []\n",
    "\n",
    "output_dir = os.path.abspath(os.path.join('..', 'data', experiment.SCENARIO.value, 'output'))\n",
    "os.makedirs(output_dir, exist_ok=True)\n",
    "csv_path = os.path.join(output_dir, f'{experiment.SAMPLING_METHOD.value}_{training_config.NUM_EPOCHS}epochs_results.csv')\n",
    "\n",
    "for ts in training_settings:\n",
    "    nn = SequentialNeuralNetwork(\n",
    "        net_arch=ts.nn_architecture\n",
    "    )\n",
    "    training_data = input_data.get_training_and_test_data(\n",
    "        sampling_method=experiment.SAMPLING_METHOD,\n",
    "        training_set_size=ts.training_set_size\n",
    "    )\n",
    "    nn.train(settings=ts.training_config, data=training_data)\n",
    "    training_results_list.append(nn.training_results)\n",
    "    df_results = pd.DataFrame(training_results_list)\n",
    "\n",
    "    df_results.sort_values('test_error', inplace=True)\n",
    "    df_results.reset_index(drop=True, inplace=True)\n",
    "    df_results.to_csv(csv_path, index=False)\n"
   ]
  }
 ],
 "metadata": {
  "kernelspec": {
   "display_name": ".venv",
   "language": "python",
   "name": "python3"
  },
  "language_info": {
   "codemirror_mode": {
    "name": "ipython",
    "version": 3
   },
   "file_extension": ".py",
   "mimetype": "text/x-python",
   "name": "python",
   "nbconvert_exporter": "python",
   "pygments_lexer": "ipython3",
   "version": "3.10.11"
  }
 },
 "nbformat": 4,
 "nbformat_minor": 2
}
