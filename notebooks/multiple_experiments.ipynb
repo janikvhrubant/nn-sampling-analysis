{
 "cells": [
  {
   "attachments": {},
   "cell_type": "markdown",
   "metadata": {},
   "source": [
    "### Imports 👽"
   ]
  },
  {
   "cell_type": "code",
   "execution_count": 1,
   "metadata": {},
   "outputs": [],
   "source": [
    "import os\n",
    "import sys\n",
    "import pandas as pd\n",
    "import torch\n",
    "from datetime import datetime\n",
    "\n",
    "sys.path.append(os.path.abspath(os.path.join('..', 'src')))\n",
    "from data_classes.architecture import NeuralNetworkArchitecture\n",
    "from data_classes.enums import OptimizationMethod\n",
    "from data_classes.experiment import Experiment, SamplingMethod\n",
    "from data_classes.scenario import Scenario, ScenarioSettings\n",
    "from data_classes.training_data import InputData\n",
    "from data_classes.training_config import AdamTrainingConfig, TrainingSettings\n",
    "from models import SequentialNeuralNetwork"
   ]
  },
  {
   "attachments": {},
   "cell_type": "markdown",
   "metadata": {},
   "source": [
    "### Setup Scenario and Training Settings 🧪"
   ]
  },
  {
   "cell_type": "code",
   "execution_count": 2,
   "metadata": {},
   "outputs": [],
   "source": [
    "experiments = [\n",
    "    Experiment(\n",
    "        SAMPLING_METHOD=SamplingMethod.SOBOL,\n",
    "        SCENARIO=Scenario.SUM_SINES\n",
    "    ),\n",
    "    Experiment(\n",
    "        SAMPLING_METHOD=SamplingMethod.MC,\n",
    "        SCENARIO=Scenario.SUM_SINES\n",
    "    ),\n",
    "    Experiment(\n",
    "        SAMPLING_METHOD=SamplingMethod.SOBOL,\n",
    "        SCENARIO=Scenario.PROJECTILE\n",
    "    ),\n",
    "    Experiment(\n",
    "        SAMPLING_METHOD=SamplingMethod.MC,\n",
    "        SCENARIO=Scenario.PROJECTILE\n",
    "    )\n",
    "]\n",
    "\n",
    "num_epochs_list = [100, 500, 1000, 1500, 2000]\n",
    "widths = [6,12,24]\n",
    "depths = [4,6,8,10,12,14,16,18,20]\n",
    "learning_rates = [0.01,0.001]\n",
    "lambdas = [1.0e-04,1.0e-05,1.0e-06,1e-07]\n",
    "\n",
    "num_epochs_list = [100]\n",
    "widths = [6]\n",
    "depths = [4]\n",
    "learning_rates = [0.01]\n",
    "lambdas = [1.0e-04]"
   ]
  },
  {
   "cell_type": "code",
   "execution_count": 3,
   "metadata": {},
   "outputs": [],
   "source": [
    "def get_training_settings(num_epochs: int, scenario_settings: ScenarioSettings):\n",
    "    training_settings = []\n",
    "    for width in widths:\n",
    "        for depth in depths:\n",
    "            for learning_rate in learning_rates:\n",
    "                for lambda_ in lambdas:\n",
    "                        for training_set_size in scenario_settings.TRAINING_SET_SIZES:\n",
    "                            nn_arch = NeuralNetworkArchitecture(\n",
    "                                INPUT_DIM=scenario_settings.INPUT_DIM,\n",
    "                                OUTPUT_DIM=scenario_settings.OUTPUT_DIM,\n",
    "                                NUM_HIDDEN_LAYERS=width,\n",
    "                                DEPTH=depth,\n",
    "                                ACTIVATION_FUNCTION=torch.nn.Sigmoid\n",
    "                            )\n",
    "                            training_config = AdamTrainingConfig(\n",
    "                                OPTIMIZER=OptimizationMethod.ADAM,\n",
    "                                LEARNING_RATE=learning_rate,\n",
    "                                REG_PARAM=lambda_,\n",
    "                                NUM_EPOCHS=num_epochs\n",
    "                            )\n",
    "\n",
    "                            training_settings.append(TrainingSettings(\n",
    "                                nn_architecture=nn_arch,\n",
    "                                training_config=training_config,\n",
    "                                training_set_size=training_set_size\n",
    "                            ))\n",
    "    return training_settings"
   ]
  },
  {
   "attachments": {},
   "cell_type": "markdown",
   "metadata": {},
   "source": [
    "### Run Training 🚀"
   ]
  },
  {
   "cell_type": "code",
   "execution_count": 4,
   "metadata": {},
   "outputs": [
    {
     "name": "stdout",
     "output_type": "stream",
     "text": [
      "Starting Experiment: Scenario - Scenario.SUM_SINES; Sampling Method - SamplingMethod.SOBOL\n"
     ]
    },
    {
     "ename": "NameError",
     "evalue": "name 'time' is not defined",
     "output_type": "error",
     "traceback": [
      "\u001b[31m---------------------------------------------------------------------------\u001b[39m",
      "\u001b[31mNameError\u001b[39m                                 Traceback (most recent call last)",
      "\u001b[36mCell\u001b[39m\u001b[36m \u001b[39m\u001b[32mIn[4]\u001b[39m\u001b[32m, line 8\u001b[39m\n\u001b[32m      6\u001b[39m input_data = InputData(scenario_settings.DATA_PATH)\n\u001b[32m      7\u001b[39m \u001b[38;5;28;01mfor\u001b[39;00m num_epochs \u001b[38;5;129;01min\u001b[39;00m num_epochs_list:\n\u001b[32m----> \u001b[39m\u001b[32m8\u001b[39m     training_settings = \u001b[43mget_training_settings\u001b[49m\u001b[43m(\u001b[49m\u001b[43mnum_epochs\u001b[49m\u001b[43m,\u001b[49m\u001b[43m \u001b[49m\u001b[43mscenario_settings\u001b[49m\u001b[43m)\u001b[49m\n\u001b[32m      9\u001b[39m     training_results_list = []\n\u001b[32m     11\u001b[39m     output_dir = os.path.abspath(os.path.join(\u001b[33m'\u001b[39m\u001b[33m..\u001b[39m\u001b[33m'\u001b[39m, \u001b[33m'\u001b[39m\u001b[33mdata\u001b[39m\u001b[33m'\u001b[39m, experiment.SCENARIO.value, \u001b[33m'\u001b[39m\u001b[33moutput\u001b[39m\u001b[33m'\u001b[39m))\n",
      "\u001b[36mCell\u001b[39m\u001b[36m \u001b[39m\u001b[32mIn[3]\u001b[39m\u001b[32m, line 3\u001b[39m, in \u001b[36mget_training_settings\u001b[39m\u001b[34m(num_epochs, scenario_settings)\u001b[39m\n\u001b[32m      1\u001b[39m \u001b[38;5;28;01mdef\u001b[39;00m\u001b[38;5;250m \u001b[39m\u001b[34mget_training_settings\u001b[39m(num_epochs: \u001b[38;5;28mint\u001b[39m, scenario_settings: ScenarioSettings):\n\u001b[32m      2\u001b[39m     training_settings = []\n\u001b[32m----> \u001b[39m\u001b[32m3\u001b[39m     t = \u001b[43mtime\u001b[49m.now\n\u001b[32m      4\u001b[39m     \u001b[38;5;28;01mfor\u001b[39;00m width \u001b[38;5;129;01min\u001b[39;00m widths:\n\u001b[32m      5\u001b[39m         \u001b[38;5;28;01mfor\u001b[39;00m depth \u001b[38;5;129;01min\u001b[39;00m depths:\n",
      "\u001b[31mNameError\u001b[39m: name 'time' is not defined"
     ]
    }
   ],
   "source": [
    "for experiment in experiments:\n",
    "    print(f'Starting Experiment: Scenario - {experiment.SCENARIO}; Sampling Method - {experiment.SAMPLING_METHOD}')\n",
    "    t = datetime.now()\n",
    "    \n",
    "    scenario_settings = ScenarioSettings(experiment.SCENARIO)\n",
    "    input_data = InputData(scenario_settings.DATA_PATH)\n",
    "    for num_epochs in num_epochs_list:\n",
    "        training_settings = get_training_settings(num_epochs, scenario_settings)\n",
    "        training_results_list = []\n",
    "\n",
    "        output_dir = os.path.abspath(os.path.join('..', 'data', experiment.SCENARIO.value, 'output'))\n",
    "        os.makedirs(output_dir, exist_ok=True)\n",
    "        csv_path = os.path.join(output_dir, f'{experiment.SAMPLING_METHOD.value}_{num_epochs}epochs_results.csv')\n",
    "\n",
    "        for ts in training_settings:\n",
    "            nn = SequentialNeuralNetwork(\n",
    "                net_arch=ts.nn_architecture\n",
    "            )\n",
    "            training_data = input_data.get_training_and_test_data(\n",
    "                sampling_method=experiment.SAMPLING_METHOD,\n",
    "                training_set_size=ts.training_set_size\n",
    "            )\n",
    "            nn.train(settings=ts.training_config, data=training_data)\n",
    "            training_results_list.append(nn.training_results)\n",
    "            df_results = pd.DataFrame(training_results_list)\n",
    "\n",
    "            df_results.sort_values('test_error', inplace=True)\n",
    "            df_results.reset_index(drop=True, inplace=True)\n",
    "            df_results.to_csv(csv_path, index=False)\n",
    "    duration = datetime.now()-t\n",
    "    minutes, seconds = divmod(duration.total_seconds(), 60)\n",
    "    print(f'finished within {minutes} minutes and {seconds} secondes!')\n",
    "    print()\n"
   ]
  }
 ],
 "metadata": {
  "kernelspec": {
   "display_name": ".venv",
   "language": "python",
   "name": "python3"
  },
  "language_info": {
   "codemirror_mode": {
    "name": "ipython",
    "version": 3
   },
   "file_extension": ".py",
   "mimetype": "text/x-python",
   "name": "python",
   "nbconvert_exporter": "python",
   "pygments_lexer": "ipython3",
   "version": "3.13.3"
  }
 },
 "nbformat": 4,
 "nbformat_minor": 2
}
