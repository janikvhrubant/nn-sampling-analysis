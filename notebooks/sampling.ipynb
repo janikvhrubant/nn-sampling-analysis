{
 "cells": [
  {
   "cell_type": "markdown",
   "metadata": {},
   "source": [
    "### Imports 👽"
   ]
  },
  {
   "cell_type": "code",
   "execution_count": 1,
   "metadata": {},
   "outputs": [],
   "source": [
    "import pandas as pd\n",
    "import sys\n",
    "import os\n",
    "import numpy as np\n",
    "\n",
    "sys.path.append(os.path.abspath(os.path.join('..', 'src')))\n",
    "from data_classes.scenario import ScenarioSettings\n",
    "from data_classes.enums import Scenario\n",
    "import sampling\n",
    "from experiment_functions import get_experiment_function"
   ]
  },
  {
   "cell_type": "markdown",
   "metadata": {},
   "source": [
    "### Setup Scenario 🧪"
   ]
  },
  {
   "cell_type": "code",
   "execution_count": 2,
   "metadata": {},
   "outputs": [],
   "source": [
    "SCENARIO = Scenario.SUM_SINES\n",
    "settings = ScenarioSettings(SCENARIO)\n",
    "input_dim = settings.INPUT_DIM\n",
    "test_function = get_experiment_function(SCENARIO)"
   ]
  },
  {
   "cell_type": "markdown",
   "metadata": {},
   "source": [
    "### Generate Data 📊"
   ]
  },
  {
   "cell_type": "code",
   "execution_count": 3,
   "metadata": {},
   "outputs": [],
   "source": [
    "sobol_train_x = sampling.generate_sobol_sequence(\n",
    "    num_samples = 8192,\n",
    "    dim = input_dim\n",
    ")\n",
    "\n",
    "sobol_train_y = test_function(sobol_train_x)\n",
    "\n",
    "mc_train_x = sampling.generate_random_sequence(\n",
    "    num_samples = 2**13,\n",
    "    dim = input_dim\n",
    ")\n",
    "mc_train_y = test_function(mc_train_x)"
   ]
  },
  {
   "cell_type": "code",
   "execution_count": 4,
   "metadata": {},
   "outputs": [],
   "source": [
    "sobol_train_together = np.hstack((sobol_train_x, sobol_train_y.reshape(-1, 1)))\n",
    "sobol_train_df = pd.DataFrame(\n",
    "    data=sobol_train_together,\n",
    "    columns=settings.COL_NAMES\n",
    ")\n",
    "\n",
    "mc_train_together = np.hstack((mc_train_x, mc_train_y.reshape(-1, 1)))\n",
    "mc_train_df = pd.DataFrame(\n",
    "    data=mc_train_together,\n",
    "    columns=settings.COL_NAMES\n",
    ")"
   ]
  },
  {
   "cell_type": "markdown",
   "metadata": {},
   "source": [
    "### Store Data 💿"
   ]
  },
  {
   "cell_type": "code",
   "execution_count": 5,
   "metadata": {},
   "outputs": [],
   "source": [
    "output_dir = os.path.abspath(os.path.join('..', 'data', SCENARIO.value, 'input'))\n",
    "os.makedirs(output_dir, exist_ok=True)\n",
    "\n",
    "output_path = os.path.join(output_dir, 'sobol_sample.csv')\n",
    "sobol_train_df.to_csv(output_path, index=False)\n",
    "\n",
    "output_path = os.path.join(output_dir, 'mc_sample.csv')\n",
    "mc_train_df.to_csv(output_path, index=False)"
   ]
  }
 ],
 "metadata": {
  "kernelspec": {
   "display_name": ".venv",
   "language": "python",
   "name": "python3"
  },
  "language_info": {
   "codemirror_mode": {
    "name": "ipython",
    "version": 3
   },
   "file_extension": ".py",
   "mimetype": "text/x-python",
   "name": "python",
   "nbconvert_exporter": "python",
   "pygments_lexer": "ipython3",
   "version": "3.13.2"
  }
 },
 "nbformat": 4,
 "nbformat_minor": 2
}
