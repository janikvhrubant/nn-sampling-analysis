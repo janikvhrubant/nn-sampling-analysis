{
 "cells": [
  {
   "cell_type": "markdown",
   "metadata": {},
   "source": [
    "### Imports 👽"
   ]
  },
  {
   "cell_type": "code",
   "execution_count": 33,
   "metadata": {},
   "outputs": [],
   "source": [
    "import os\n",
    "import sys\n",
    "import pandas as pd\n",
    "import torch\n",
    "\n",
    "sys.path.append(os.path.abspath(os.path.join('..', 'src')))\n",
    "from data_classes.architecture import NeuralNetworkArchitecture\n",
    "from data_classes.enums import OptimizationMethod\n",
    "from data_classes.experiment import Experiment, SamplingMethod\n",
    "from data_classes.scenario import Scenario, ScenarioSettings\n",
    "from data_classes.training_data import InputData\n",
    "from data_classes.training_config import AdamTrainingConfig, TrainingSettings\n",
    "from models import SequentialNeuralNetwork"
   ]
  },
  {
   "cell_type": "markdown",
   "metadata": {},
   "source": [
    "### Setup Scenario and Training Settings 🧪"
   ]
  },
  {
   "cell_type": "code",
   "execution_count": null,
   "metadata": {},
   "outputs": [],
   "source": [
    "experiments = [\n",
    "    Experiment(\n",
    "        SAMPLING_METHOD=SamplingMethod.SOBOL,\n",
    "        SCENARIO=Scenario.SUM_SINES\n",
    "    ),\n",
    "    Experiment(\n",
    "        SAMPLING_METHOD=SamplingMethod.MC,\n",
    "        SCENARIO=Scenario.SUM_SINES\n",
    "    ),\n",
    "    Experiment(\n",
    "        SAMPLING_METHOD=SamplingMethod.SOBOL,\n",
    "        SCENARIO=Scenario.PROJECTILE\n",
    "    ),\n",
    "    Experiment(\n",
    "        SAMPLING_METHOD=SamplingMethod.MC,\n",
    "        SCENARIO=Scenario.PROJECTILE\n",
    "    )\n",
    "]\n",
    "\n",
    "num_epochs_list = [100, 500, 1000, 1500, 2000]\n",
    "widths = [6,12,24]\n",
    "depths = [4,6,8,10,12,14,16,18,20]\n",
    "learning_rates = [0.01,0.001]\n",
    "lambdas = [1.0e-04,1.0e-05,1.0e-06,1e-07]\n",
    "\n",
    "num_epochs_list = [100]\n",
    "widths = [6]\n",
    "depths = [4]\n",
    "learning_rates = [0.01]\n",
    "lambdas = [1.0e-04]"
   ]
  },
  {
   "cell_type": "code",
   "execution_count": 35,
   "metadata": {},
   "outputs": [],
   "source": [
    "def get_training_settings(num_epochs: int, scenario_settings: ScenarioSettings):\n",
    "    training_settings = []\n",
    "    for width in widths:\n",
    "        for depth in depths:\n",
    "            for learning_rate in learning_rates:\n",
    "                for lambda_ in lambdas:\n",
    "                        for training_set_size in scenario_settings.TRAINING_SET_SIZES:\n",
    "                            nn_arch = NeuralNetworkArchitecture(\n",
    "                                INPUT_DIM=scenario_settings.INPUT_DIM,\n",
    "                                OUTPUT_DIM=scenario_settings.OUTPUT_DIM,\n",
    "                                NUM_HIDDEN_LAYERS=width,\n",
    "                                DEPTH=depth,\n",
    "                                ACTIVATION_FUNCTION=torch.nn.Sigmoid\n",
    "                            )\n",
    "                            training_config = AdamTrainingConfig(\n",
    "                                OPTIMIZER=OptimizationMethod.ADAM,\n",
    "                                LEARNING_RATE=learning_rate,\n",
    "                                REG_PARAM=lambda_,\n",
    "                                NUM_EPOCHS=num_epochs\n",
    "                            )\n",
    "\n",
    "                            training_settings.append(TrainingSettings(\n",
    "                                nn_architecture=nn_arch,\n",
    "                                training_config=training_config,\n",
    "                                training_set_size=training_set_size\n",
    "                            ))\n",
    "    return training_settings"
   ]
  },
  {
   "cell_type": "markdown",
   "metadata": {},
   "source": [
    "### Run Training 🚀"
   ]
  },
  {
   "cell_type": "code",
   "execution_count": null,
   "metadata": {},
   "outputs": [],
   "source": [
    "for experiment in experiments:\n",
    "    print(f'Starting Experiment: Scenario - {experiment.SCENARIO}; Sampling Method - {experiment.SAMPLING_METHOD}')\n",
    "    scenario_settings = ScenarioSettings(experiment.SCENARIO)\n",
    "    input_data = InputData(scenario_settings.DATA_PATH)\n",
    "    for num_epochs in num_epochs_list:\n",
    "        training_settings = get_training_settings(num_epochs, scenario_settings)\n",
    "        training_results_list = []\n",
    "\n",
    "        output_dir = os.path.abspath(os.path.join('..', 'data', experiment.SCENARIO.value, 'output'))\n",
    "        os.makedirs(output_dir, exist_ok=True)\n",
    "        csv_path = os.path.join(output_dir, f'{experiment.SAMPLING_METHOD.value}_{num_epochs}epochs_results.csv')\n",
    "\n",
    "        for ts in training_settings:\n",
    "            nn = SequentialNeuralNetwork(\n",
    "                net_arch=ts.nn_architecture\n",
    "            )\n",
    "            training_data = input_data.get_training_and_test_data(\n",
    "                sampling_method=experiment.SAMPLING_METHOD,\n",
    "                training_set_size=ts.training_set_size\n",
    "            )\n",
    "            nn.train(settings=ts.training_config, data=training_data)\n",
    "            training_results_list.append(nn.training_results)\n",
    "            df_results = pd.DataFrame(training_results_list)\n",
    "\n",
    "            df_results.sort_values('test_error', inplace=True)\n",
    "            df_results.reset_index(drop=True, inplace=True)\n",
    "            df_results.to_csv(csv_path, index=False)\n"
   ]
  }
 ],
 "metadata": {
  "kernelspec": {
   "display_name": ".venv",
   "language": "python",
   "name": "python3"
  },
  "language_info": {
   "codemirror_mode": {
    "name": "ipython",
    "version": 3
   },
   "file_extension": ".py",
   "mimetype": "text/x-python",
   "name": "python",
   "nbconvert_exporter": "python",
   "pygments_lexer": "ipython3",
   "version": "3.13.2"
  }
 },
 "nbformat": 4,
 "nbformat_minor": 2
}
