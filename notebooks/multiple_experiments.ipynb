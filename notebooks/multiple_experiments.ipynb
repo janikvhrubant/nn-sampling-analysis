{
 "cells": [
  {
   "attachments": {},
   "cell_type": "markdown",
   "metadata": {},
   "source": [
    "### Imports 👽"
   ]
  },
  {
   "cell_type": "code",
   "execution_count": 1,
   "metadata": {},
   "outputs": [],
   "source": [
    "import os\n",
    "import sys\n",
    "import pandas as pd\n",
    "import torch\n",
    "\n",
    "sys.path.append(os.path.abspath(os.path.join('..', 'src')))\n",
    "from data_classes.architecture import NeuralNetworkArchitecture\n",
    "from data_classes.enums import OptimizationMethod\n",
    "from data_classes.experiment import Experiment, SamplingMethod\n",
    "from data_classes.scenario import Scenario, ScenarioSettings\n",
    "from data_classes.training_data import InputData\n",
    "from data_classes.training_config import AdamTrainingConfig, TrainingSettings\n",
    "from models import SequentialNeuralNetwork"
   ]
  },
  {
   "attachments": {},
   "cell_type": "markdown",
   "metadata": {},
   "source": [
    "### Setup Scenario and Training Settings 🧪"
   ]
  },
  {
   "cell_type": "code",
   "execution_count": 2,
   "metadata": {},
   "outputs": [],
   "source": [
    "experiments = [\n",
    "    Experiment(\n",
    "        SAMPLING_METHOD=SamplingMethod.SOBOL,\n",
    "        SCENARIO=Scenario.SUM_SINES\n",
    "    ),\n",
    "    Experiment(\n",
    "        SAMPLING_METHOD=SamplingMethod.MC,\n",
    "        SCENARIO=Scenario.SUM_SINES\n",
    "    ),\n",
    "    Experiment(\n",
    "        SAMPLING_METHOD=SamplingMethod.SOBOL,\n",
    "        SCENARIO=Scenario.PROJECTILE\n",
    "    ),\n",
    "    Experiment(\n",
    "        SAMPLING_METHOD=SamplingMethod.MC,\n",
    "        SCENARIO=Scenario.PROJECTILE\n",
    "    )\n",
    "]\n",
    "\n",
    "num_epochs_list = [100, 500, 1000, 1500, 2000]\n",
    "widths = [6,12,24]\n",
    "depths = [4,8,12,16,20]\n",
    "learning_rates = [0.01,0.001]\n",
    "lambdas = [1.0e-04,1.0e-05,1.0e-06,1e-07]"
   ]
  },
  {
   "cell_type": "code",
   "execution_count": 3,
   "metadata": {},
   "outputs": [],
   "source": [
    "def get_training_settings(num_epochs: int, scenario_settings: ScenarioSettings):\n",
    "    training_settings = []\n",
    "    for training_set_size in scenario_settings.TRAINING_SET_SIZES:\n",
    "        for width in widths:\n",
    "            for depth in depths:\n",
    "                for learning_rate in learning_rates:\n",
    "                    for lambda_ in lambdas:\n",
    "                            nn_arch = NeuralNetworkArchitecture(\n",
    "                                INPUT_DIM=scenario_settings.INPUT_DIM,\n",
    "                                OUTPUT_DIM=scenario_settings.OUTPUT_DIM,\n",
    "                                NUM_HIDDEN_LAYERS=width,\n",
    "                                DEPTH=depth,\n",
    "                                ACTIVATION_FUNCTION=torch.nn.Sigmoid\n",
    "                            )\n",
    "                            training_config = AdamTrainingConfig(\n",
    "                                OPTIMIZER=OptimizationMethod.ADAM,\n",
    "                                LEARNING_RATE=learning_rate,\n",
    "                                REG_PARAM=lambda_,\n",
    "                                NUM_EPOCHS=num_epochs\n",
    "                            )\n",
    "\n",
    "                            training_settings.append(TrainingSettings(\n",
    "                                nn_architecture=nn_arch,\n",
    "                                training_config=training_config,\n",
    "                                training_set_size=training_set_size\n",
    "                            ))\n",
    "    return training_settings"
   ]
  },
  {
   "attachments": {},
   "cell_type": "markdown",
   "metadata": {},
   "source": [
    "### Run Training 🚀"
   ]
  },
  {
   "cell_type": "code",
   "execution_count": 4,
   "metadata": {},
   "outputs": [
    {
     "name": "stdout",
     "output_type": "stream",
     "text": [
      "Started:\n",
      "sum_sines, sobol, 100 epochs\n",
      "sum_sines, sobol, 500 epochs\n",
      "sum_sines, sobol, 1000 epochs\n",
      "sum_sines, sobol, 1500 epochs\n",
      "sum_sines, sobol, 2000 epochs\n",
      "sum_sines, mc, 100 epochs\n",
      "sum_sines, mc, 500 epochs\n",
      "sum_sines, mc, 1000 epochs\n",
      "sum_sines, mc, 1500 epochs\n",
      "sum_sines, mc, 2000 epochs\n",
      "projectile, sobol, 100 epochs\n",
      "projectile, sobol, 500 epochs\n",
      "projectile, sobol, 1000 epochs\n",
      "projectile, sobol, 1500 epochs\n",
      "projectile, sobol, 2000 epochs\n",
      "projectile, mc, 100 epochs\n",
      "projectile, mc, 500 epochs\n",
      "projectile, mc, 1000 epochs\n",
      "projectile, mc, 1500 epochs\n",
      "projectile, mc, 2000 epochs\n",
      "\n",
      "Starting Experiment:\n",
      "Scenario:                projectile\n",
      "Sampling Method:         mc\n",
      "Number of Epochs:        2000\n",
      "Training Set Size:       1024\n",
      "Number of Hidden Layers: 24\n",
      "Depth:                   20\n",
      "Learning-Rate:           0.001\n",
      "Regression Parameter:    1e-07\n"
     ]
    }
   ],
   "source": [
    "from IPython.display import clear_output\n",
    "\n",
    "finished_scenarios = []\n",
    "\n",
    "for experiment in experiments:\n",
    "    scenario_settings = ScenarioSettings(experiment.SCENARIO)\n",
    "\n",
    "    input_data = InputData(scenario_settings.DATA_PATH)\n",
    "    for num_epochs in num_epochs_list:\n",
    "        finished_scenarios.append(f'{experiment.SCENARIO.value}, {experiment.SAMPLING_METHOD.value}, {num_epochs} epochs')\n",
    "        training_settings = get_training_settings(num_epochs, scenario_settings)\n",
    "        training_results_list = []\n",
    "\n",
    "        output_dir = os.path.abspath(os.path.join('..', 'data', experiment.SCENARIO.value, 'output'))\n",
    "        os.makedirs(output_dir, exist_ok=True)\n",
    "        csv_path = os.path.join(output_dir, f'{experiment.SAMPLING_METHOD.value}_{num_epochs}epochs_results.csv')\n",
    "\n",
    "        for ts in training_settings:\n",
    "            print('Started:')\n",
    "            for sc in finished_scenarios:\n",
    "                print(sc)\n",
    "            print()\n",
    "            print('Starting Experiment:')\n",
    "            print(f'Scenario:                {experiment.SCENARIO.value}')\n",
    "            print(f'Sampling Method:         {experiment.SAMPLING_METHOD.value}')\n",
    "            print(f'Number of Epochs:        {num_epochs}')\n",
    "            print(f'Training Set Size:       {ts.training_set_size}')\n",
    "            print(f'Number of Hidden Layers: {ts.nn_architecture.NUM_HIDDEN_LAYERS}')\n",
    "            print(f'Depth:                   {ts.nn_architecture.DEPTH}')\n",
    "            print(f'Learning-Rate:           {ts.training_config.LEARNING_RATE}')\n",
    "            print(f'Regression Parameter:    {ts.training_config.REG_PARAM}')\n",
    "            clear_output(wait=True)\n",
    "            nn = SequentialNeuralNetwork(\n",
    "                net_arch=ts.nn_architecture\n",
    "            )\n",
    "            training_data = input_data.get_training_and_test_data(\n",
    "                sampling_method=experiment.SAMPLING_METHOD,\n",
    "                training_set_size=ts.training_set_size\n",
    "            )\n",
    "            nn.train(settings=ts.training_config, data=training_data)\n",
    "            training_results_list.append(nn.training_results)\n",
    "            df_results = pd.DataFrame(training_results_list)\n",
    "\n",
    "            df_results.sort_values('test_error', inplace=True)\n",
    "            df_results.reset_index(drop=True, inplace=True)\n",
    "            df_results.to_csv(csv_path, index=False)"
   ]
  }
 ],
 "metadata": {
  "kernelspec": {
   "display_name": ".venv",
   "language": "python",
   "name": "python3"
  },
  "language_info": {
   "codemirror_mode": {
    "name": "ipython",
    "version": 3
   },
   "file_extension": ".py",
   "mimetype": "text/x-python",
   "name": "python",
   "nbconvert_exporter": "python",
   "pygments_lexer": "ipython3",
   "version": "3.13.3"
  }
 },
 "nbformat": 4,
 "nbformat_minor": 2
}
